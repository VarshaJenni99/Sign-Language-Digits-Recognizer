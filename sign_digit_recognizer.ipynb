{
  "nbformat": 4,
  "nbformat_minor": 0,
  "metadata": {
    "colab": {
      "name": "sign_digit_recognizer.ipynb",
      "provenance": [],
      "collapsed_sections": [],
      "authorship_tag": "ABX9TyNKsawctQZZ/YYuQfl/7wVD",
      "include_colab_link": true
    },
    "kernelspec": {
      "name": "python3",
      "display_name": "Python 3"
    }
  },
  "cells": [
    {
      "cell_type": "markdown",
      "metadata": {
        "id": "view-in-github",
        "colab_type": "text"
      },
      "source": [
        "<a href=\"https://colab.research.google.com/github/VarshaJenni99/Sign-Language-Digits-Recognizer/blob/master/sign_digit_recognizer.ipynb\" target=\"_parent\"><img src=\"https://colab.research.google.com/assets/colab-badge.svg\" alt=\"Open In Colab\"/></a>"
      ]
    },
    {
      "cell_type": "code",
      "metadata": {
        "id": "PeDcyZ-EQlDr",
        "colab_type": "code",
        "colab": {}
      },
      "source": [
        "from keras.layers import Input, Lambda, Dense, Flatten\n",
        "from keras.models import Model\n",
        "from keras.applications.vgg16 import VGG16\n",
        "from keras.applications.vgg16 import preprocess_input\n",
        "from keras.preprocessing import image\n",
        "from keras.preprocessing.image import ImageDataGenerator\n",
        "from keras.models import Sequential\n",
        "import numpy as np\n",
        "from glob import glob\n",
        "import matplotlib.pyplot as plt\n",
        "import cv2\n",
        "import tensorflow as tf\n",
        "\n",
        "from keras.models import load_model"
      ],
      "execution_count": null,
      "outputs": []
    },
    {
      "cell_type": "code",
      "metadata": {
        "id": "hw2YaliZQ0-B",
        "colab_type": "code",
        "colab": {
          "base_uri": "https://localhost:8080/",
          "height": 34
        },
        "outputId": "b58e5be6-ca66-4542-fee4-833194486428"
      },
      "source": [
        "from zipfile import ZipFile\n",
        "with ZipFile(\"input.zip\", 'r') as zip:\n",
        "  zip.extractall()\n",
        "  print('done')"
      ],
      "execution_count": null,
      "outputs": [
        {
          "output_type": "stream",
          "text": [
            "done\n"
          ],
          "name": "stdout"
        }
      ]
    },
    {
      "cell_type": "code",
      "metadata": {
        "id": "duBqExfxd4Y5",
        "colab_type": "code",
        "colab": {}
      },
      "source": [
        "# re-size all the images to this\n",
        "IMAGE_SIZE = [100, 100]\n",
        "\n",
        "train_path = 'input/train'\n",
        "valid_path = 'input/val'\n",
        "test_path = 'input/test'"
      ],
      "execution_count": null,
      "outputs": []
    },
    {
      "cell_type": "code",
      "metadata": {
        "id": "fmQLrhqzeRCn",
        "colab_type": "code",
        "colab": {}
      },
      "source": [
        "# add preprocessing layer to the front of VGG\n",
        "vgg = VGG16(input_shape=IMAGE_SIZE + [3], weights='imagenet', include_top=False)"
      ],
      "execution_count": null,
      "outputs": []
    },
    {
      "cell_type": "code",
      "metadata": {
        "id": "Ja7DYqPIenA9",
        "colab_type": "code",
        "colab": {}
      },
      "source": [
        "# don't train existing weights\n",
        "for layer in vgg.layers:\n",
        "  layer.trainable = False\n",
        "  \n",
        " \n",
        "  # useful for getting number of classes\n",
        "folders = glob('input/train/*')"
      ],
      "execution_count": null,
      "outputs": []
    },
    {
      "cell_type": "code",
      "metadata": {
        "id": "TTAgfFBte1I3",
        "colab_type": "code",
        "colab": {
          "base_uri": "https://localhost:8080/",
          "height": 857
        },
        "outputId": "a300bde1-baee-4a73-8e9d-2cb8a6a0ea25"
      },
      "source": [
        "# our layers - you can add more if you want\n",
        "x = Flatten()(vgg.output)\n",
        "# x = Dense(1000, activation='relu')(x)\n",
        "prediction = Dense(len(folders), activation='softmax')(x)\n",
        "\n",
        "# create a model object\n",
        "model = Model(inputs=vgg.input, outputs=prediction)\n",
        "\n",
        "# view the structure of the model\n",
        "model.summary()"
      ],
      "execution_count": null,
      "outputs": [
        {
          "output_type": "stream",
          "text": [
            "Model: \"functional_1\"\n",
            "_________________________________________________________________\n",
            "Layer (type)                 Output Shape              Param #   \n",
            "=================================================================\n",
            "input_1 (InputLayer)         [(None, 100, 100, 3)]     0         \n",
            "_________________________________________________________________\n",
            "block1_conv1 (Conv2D)        (None, 100, 100, 64)      1792      \n",
            "_________________________________________________________________\n",
            "block1_conv2 (Conv2D)        (None, 100, 100, 64)      36928     \n",
            "_________________________________________________________________\n",
            "block1_pool (MaxPooling2D)   (None, 50, 50, 64)        0         \n",
            "_________________________________________________________________\n",
            "block2_conv1 (Conv2D)        (None, 50, 50, 128)       73856     \n",
            "_________________________________________________________________\n",
            "block2_conv2 (Conv2D)        (None, 50, 50, 128)       147584    \n",
            "_________________________________________________________________\n",
            "block2_pool (MaxPooling2D)   (None, 25, 25, 128)       0         \n",
            "_________________________________________________________________\n",
            "block3_conv1 (Conv2D)        (None, 25, 25, 256)       295168    \n",
            "_________________________________________________________________\n",
            "block3_conv2 (Conv2D)        (None, 25, 25, 256)       590080    \n",
            "_________________________________________________________________\n",
            "block3_conv3 (Conv2D)        (None, 25, 25, 256)       590080    \n",
            "_________________________________________________________________\n",
            "block3_pool (MaxPooling2D)   (None, 12, 12, 256)       0         \n",
            "_________________________________________________________________\n",
            "block4_conv1 (Conv2D)        (None, 12, 12, 512)       1180160   \n",
            "_________________________________________________________________\n",
            "block4_conv2 (Conv2D)        (None, 12, 12, 512)       2359808   \n",
            "_________________________________________________________________\n",
            "block4_conv3 (Conv2D)        (None, 12, 12, 512)       2359808   \n",
            "_________________________________________________________________\n",
            "block4_pool (MaxPooling2D)   (None, 6, 6, 512)         0         \n",
            "_________________________________________________________________\n",
            "block5_conv1 (Conv2D)        (None, 6, 6, 512)         2359808   \n",
            "_________________________________________________________________\n",
            "block5_conv2 (Conv2D)        (None, 6, 6, 512)         2359808   \n",
            "_________________________________________________________________\n",
            "block5_conv3 (Conv2D)        (None, 6, 6, 512)         2359808   \n",
            "_________________________________________________________________\n",
            "block5_pool (MaxPooling2D)   (None, 3, 3, 512)         0         \n",
            "_________________________________________________________________\n",
            "flatten (Flatten)            (None, 4608)              0         \n",
            "_________________________________________________________________\n",
            "dense (Dense)                (None, 10)                46090     \n",
            "=================================================================\n",
            "Total params: 14,760,778\n",
            "Trainable params: 46,090\n",
            "Non-trainable params: 14,714,688\n",
            "_________________________________________________________________\n"
          ],
          "name": "stdout"
        }
      ]
    },
    {
      "cell_type": "code",
      "metadata": {
        "id": "e-iZ2Y2DfELj",
        "colab_type": "code",
        "colab": {}
      },
      "source": [
        "# tell the model what cost and optimization method to use\n",
        "model.compile(\n",
        "  loss='categorical_crossentropy',\n",
        "  optimizer='adam',\n",
        "  metrics=['accuracy']\n",
        ")\n"
      ],
      "execution_count": null,
      "outputs": []
    },
    {
      "cell_type": "code",
      "metadata": {
        "id": "_v7JHtSLfdQR",
        "colab_type": "code",
        "colab": {
          "base_uri": "https://localhost:8080/",
          "height": 67
        },
        "outputId": "546c0294-c9d0-48f4-c3a0-8ab71ffe92f9"
      },
      "source": [
        "from keras.preprocessing.image import ImageDataGenerator\n",
        "\n",
        "def gray_to_rgb(img):\n",
        "    return np.repeat(img, 3, 2)\n",
        "\n",
        "train_datagen = ImageDataGenerator(rescale = 1./255,\n",
        "                                   shear_range = 0.2,\n",
        "                                   zoom_range = 0.2,\n",
        "                                   horizontal_flip = True, \n",
        "                                   )\n",
        "\n",
        "test_datagen = ImageDataGenerator(rescale = 1./255,)\n",
        "\n",
        "training_set = train_datagen.flow_from_directory('input/train',\n",
        "                                                 target_size = (100, 100),\n",
        "                                                 batch_size = 32,\n",
        "                                                 class_mode = 'categorical')\n",
        "\n",
        "val_set = test_datagen.flow_from_directory('input/val',\n",
        "                                            target_size = (100, 100),\n",
        "                                            batch_size = 32,\n",
        "                                            class_mode = 'categorical')\n",
        "\n",
        "train_set = test_datagen.flow_from_directory('input/test',\n",
        "                                            target_size = (100, 100),\n",
        "                                            batch_size = 32,\n",
        "                                            class_mode = 'categorical')\n",
        "\n"
      ],
      "execution_count": null,
      "outputs": [
        {
          "output_type": "stream",
          "text": [
            "Found 1644 images belonging to 10 classes.\n",
            "Found 200 images belonging to 10 classes.\n",
            "Found 218 images belonging to 10 classes.\n"
          ],
          "name": "stdout"
        }
      ]
    },
    {
      "cell_type": "code",
      "metadata": {
        "id": "ZCIsUUJNHpj3",
        "colab_type": "code",
        "colab": {
          "base_uri": "https://localhost:8080/",
          "height": 34
        },
        "outputId": "ce6422bb-5bca-49aa-dae3-593812733689"
      },
      "source": [
        "\n",
        "training_set.image_shape"
      ],
      "execution_count": null,
      "outputs": [
        {
          "output_type": "execute_result",
          "data": {
            "text/plain": [
              "(100, 100, 3)"
            ]
          },
          "metadata": {
            "tags": []
          },
          "execution_count": 13
        }
      ]
    },
    {
      "cell_type": "code",
      "metadata": {
        "id": "R870HYm3bOc1",
        "colab_type": "code",
        "colab": {
          "base_uri": "https://localhost:8080/",
          "height": 34
        },
        "outputId": "05effbbe-e1b8-4e58-e331-2a50c0f41748"
      },
      "source": [
        "training_set"
      ],
      "execution_count": null,
      "outputs": [
        {
          "output_type": "execute_result",
          "data": {
            "text/plain": [
              "<tensorflow.python.keras.preprocessing.image.DirectoryIterator at 0x7f113474aa58>"
            ]
          },
          "metadata": {
            "tags": []
          },
          "execution_count": 25
        }
      ]
    },
    {
      "cell_type": "code",
      "metadata": {
        "id": "2WYO24AlgjCl",
        "colab_type": "code",
        "colab": {
          "base_uri": "https://localhost:8080/",
          "height": 1000
        },
        "outputId": "605967b6-abc6-4cd7-e2e6-74c1a1bbfb28"
      },
      "source": [
        "# fit the model\n",
        "r = model.fit(\n",
        "  training_set,\n",
        "  validation_data=val_set,\n",
        "  epochs=100,\n",
        "  steps_per_epoch=len(training_set),\n",
        "  validation_steps=len(val_set)\n",
        ")"
      ],
      "execution_count": 16,
      "outputs": [
        {
          "output_type": "stream",
          "text": [
            "Epoch 1/100\n",
            "52/52 [==============================] - 181s 3s/step - loss: 0.7333 - accuracy: 0.8169 - val_loss: 0.5136 - val_accuracy: 0.9000\n",
            "Epoch 2/100\n",
            "52/52 [==============================] - 180s 3s/step - loss: 0.5425 - accuracy: 0.8613 - val_loss: 0.3964 - val_accuracy: 0.9250\n",
            "Epoch 3/100\n",
            "52/52 [==============================] - 181s 3s/step - loss: 0.4356 - accuracy: 0.8948 - val_loss: 0.3212 - val_accuracy: 0.9550\n",
            "Epoch 4/100\n",
            "52/52 [==============================] - 181s 3s/step - loss: 0.3600 - accuracy: 0.9197 - val_loss: 0.2661 - val_accuracy: 0.9650\n",
            "Epoch 5/100\n",
            "52/52 [==============================] - 181s 3s/step - loss: 0.3396 - accuracy: 0.9191 - val_loss: 0.2463 - val_accuracy: 0.9500\n",
            "Epoch 6/100\n",
            "52/52 [==============================] - 181s 3s/step - loss: 0.3027 - accuracy: 0.9209 - val_loss: 0.2178 - val_accuracy: 0.9550\n",
            "Epoch 7/100\n",
            "52/52 [==============================] - 181s 3s/step - loss: 0.2677 - accuracy: 0.9428 - val_loss: 0.2025 - val_accuracy: 0.9650\n",
            "Epoch 8/100\n",
            "52/52 [==============================] - 180s 3s/step - loss: 0.2508 - accuracy: 0.9477 - val_loss: 0.1872 - val_accuracy: 0.9600\n",
            "Epoch 9/100\n",
            "52/52 [==============================] - 180s 3s/step - loss: 0.2360 - accuracy: 0.9446 - val_loss: 0.1715 - val_accuracy: 0.9650\n",
            "Epoch 10/100\n",
            "52/52 [==============================] - 180s 3s/step - loss: 0.2156 - accuracy: 0.9544 - val_loss: 0.1699 - val_accuracy: 0.9650\n",
            "Epoch 11/100\n",
            "52/52 [==============================] - 180s 3s/step - loss: 0.1981 - accuracy: 0.9538 - val_loss: 0.1575 - val_accuracy: 0.9750\n",
            "Epoch 12/100\n",
            "52/52 [==============================] - 181s 3s/step - loss: 0.1876 - accuracy: 0.9586 - val_loss: 0.1397 - val_accuracy: 0.9750\n",
            "Epoch 13/100\n",
            "52/52 [==============================] - 181s 3s/step - loss: 0.1818 - accuracy: 0.9617 - val_loss: 0.1326 - val_accuracy: 0.9750\n",
            "Epoch 14/100\n",
            "52/52 [==============================] - 180s 3s/step - loss: 0.1682 - accuracy: 0.9617 - val_loss: 0.1269 - val_accuracy: 0.9750\n",
            "Epoch 15/100\n",
            "52/52 [==============================] - 180s 3s/step - loss: 0.1613 - accuracy: 0.9684 - val_loss: 0.1369 - val_accuracy: 0.9750\n",
            "Epoch 16/100\n",
            "52/52 [==============================] - 180s 3s/step - loss: 0.1538 - accuracy: 0.9708 - val_loss: 0.1207 - val_accuracy: 0.9750\n",
            "Epoch 17/100\n",
            "52/52 [==============================] - 182s 4s/step - loss: 0.1495 - accuracy: 0.9678 - val_loss: 0.1140 - val_accuracy: 0.9750\n",
            "Epoch 18/100\n",
            "52/52 [==============================] - 180s 3s/step - loss: 0.1266 - accuracy: 0.9787 - val_loss: 0.1142 - val_accuracy: 0.9750\n",
            "Epoch 19/100\n",
            "52/52 [==============================] - 180s 3s/step - loss: 0.1269 - accuracy: 0.9793 - val_loss: 0.1107 - val_accuracy: 0.9750\n",
            "Epoch 20/100\n",
            "52/52 [==============================] - 180s 3s/step - loss: 0.1254 - accuracy: 0.9793 - val_loss: 0.1102 - val_accuracy: 0.9750\n",
            "Epoch 21/100\n",
            "52/52 [==============================] - 180s 3s/step - loss: 0.1212 - accuracy: 0.9787 - val_loss: 0.1027 - val_accuracy: 0.9750\n",
            "Epoch 22/100\n",
            "52/52 [==============================] - 180s 3s/step - loss: 0.1136 - accuracy: 0.9799 - val_loss: 0.1017 - val_accuracy: 0.9750\n",
            "Epoch 23/100\n",
            "52/52 [==============================] - 182s 4s/step - loss: 0.1129 - accuracy: 0.9732 - val_loss: 0.1011 - val_accuracy: 0.9750\n",
            "Epoch 24/100\n",
            "52/52 [==============================] - 181s 3s/step - loss: 0.1055 - accuracy: 0.9824 - val_loss: 0.1078 - val_accuracy: 0.9750\n",
            "Epoch 25/100\n",
            "52/52 [==============================] - 181s 3s/step - loss: 0.1020 - accuracy: 0.9848 - val_loss: 0.0921 - val_accuracy: 0.9750\n",
            "Epoch 26/100\n",
            "52/52 [==============================] - 181s 3s/step - loss: 0.0957 - accuracy: 0.9818 - val_loss: 0.1049 - val_accuracy: 0.9750\n",
            "Epoch 27/100\n",
            "52/52 [==============================] - 181s 3s/step - loss: 0.0970 - accuracy: 0.9848 - val_loss: 0.0877 - val_accuracy: 0.9750\n",
            "Epoch 28/100\n",
            "52/52 [==============================] - 181s 3s/step - loss: 0.0932 - accuracy: 0.9842 - val_loss: 0.0889 - val_accuracy: 0.9750\n",
            "Epoch 29/100\n",
            "52/52 [==============================] - 181s 3s/step - loss: 0.0937 - accuracy: 0.9824 - val_loss: 0.0898 - val_accuracy: 0.9750\n",
            "Epoch 30/100\n",
            "52/52 [==============================] - 181s 3s/step - loss: 0.0826 - accuracy: 0.9866 - val_loss: 0.0750 - val_accuracy: 0.9750\n",
            "Epoch 31/100\n",
            "52/52 [==============================] - 181s 3s/step - loss: 0.0807 - accuracy: 0.9915 - val_loss: 0.0805 - val_accuracy: 0.9750\n",
            "Epoch 32/100\n",
            "52/52 [==============================] - 181s 3s/step - loss: 0.0784 - accuracy: 0.9878 - val_loss: 0.0855 - val_accuracy: 0.9750\n",
            "Epoch 33/100\n",
            "52/52 [==============================] - 180s 3s/step - loss: 0.0783 - accuracy: 0.9878 - val_loss: 0.0904 - val_accuracy: 0.9750\n",
            "Epoch 34/100\n",
            "52/52 [==============================] - 181s 3s/step - loss: 0.0727 - accuracy: 0.9897 - val_loss: 0.0871 - val_accuracy: 0.9750\n",
            "Epoch 35/100\n",
            "52/52 [==============================] - 180s 3s/step - loss: 0.0745 - accuracy: 0.9854 - val_loss: 0.0743 - val_accuracy: 0.9750\n",
            "Epoch 36/100\n",
            "52/52 [==============================] - 181s 3s/step - loss: 0.0766 - accuracy: 0.9866 - val_loss: 0.0715 - val_accuracy: 0.9750\n",
            "Epoch 37/100\n",
            "52/52 [==============================] - 181s 3s/step - loss: 0.0687 - accuracy: 0.9897 - val_loss: 0.0791 - val_accuracy: 0.9750\n",
            "Epoch 38/100\n",
            "52/52 [==============================] - 181s 3s/step - loss: 0.0694 - accuracy: 0.9891 - val_loss: 0.0826 - val_accuracy: 0.9750\n",
            "Epoch 39/100\n",
            "52/52 [==============================] - 181s 3s/step - loss: 0.0616 - accuracy: 0.9945 - val_loss: 0.0872 - val_accuracy: 0.9750\n",
            "Epoch 40/100\n",
            "52/52 [==============================] - 180s 3s/step - loss: 0.0585 - accuracy: 0.9951 - val_loss: 0.0868 - val_accuracy: 0.9750\n",
            "Epoch 41/100\n",
            "52/52 [==============================] - 181s 3s/step - loss: 0.0614 - accuracy: 0.9897 - val_loss: 0.0838 - val_accuracy: 0.9800\n",
            "Epoch 42/100\n",
            "52/52 [==============================] - 180s 3s/step - loss: 0.0562 - accuracy: 0.9939 - val_loss: 0.0752 - val_accuracy: 0.9750\n",
            "Epoch 43/100\n",
            "52/52 [==============================] - 181s 3s/step - loss: 0.0617 - accuracy: 0.9915 - val_loss: 0.0702 - val_accuracy: 0.9750\n",
            "Epoch 44/100\n",
            "52/52 [==============================] - 181s 3s/step - loss: 0.0608 - accuracy: 0.9891 - val_loss: 0.0745 - val_accuracy: 0.9800\n",
            "Epoch 45/100\n",
            "52/52 [==============================] - 180s 3s/step - loss: 0.0516 - accuracy: 0.9945 - val_loss: 0.0747 - val_accuracy: 0.9750\n",
            "Epoch 46/100\n",
            "52/52 [==============================] - 181s 3s/step - loss: 0.0570 - accuracy: 0.9927 - val_loss: 0.0847 - val_accuracy: 0.9750\n",
            "Epoch 47/100\n",
            "52/52 [==============================] - 183s 4s/step - loss: 0.0554 - accuracy: 0.9915 - val_loss: 0.0725 - val_accuracy: 0.9750\n",
            "Epoch 48/100\n",
            "52/52 [==============================] - 181s 3s/step - loss: 0.0509 - accuracy: 0.9939 - val_loss: 0.0687 - val_accuracy: 0.9800\n",
            "Epoch 49/100\n",
            "52/52 [==============================] - 180s 3s/step - loss: 0.0526 - accuracy: 0.9939 - val_loss: 0.0865 - val_accuracy: 0.9700\n",
            "Epoch 50/100\n",
            "52/52 [==============================] - 181s 3s/step - loss: 0.0475 - accuracy: 0.9933 - val_loss: 0.0690 - val_accuracy: 0.9750\n",
            "Epoch 51/100\n",
            "52/52 [==============================] - 181s 3s/step - loss: 0.0430 - accuracy: 0.9951 - val_loss: 0.0671 - val_accuracy: 0.9750\n",
            "Epoch 52/100\n",
            "52/52 [==============================] - 181s 3s/step - loss: 0.0428 - accuracy: 0.9957 - val_loss: 0.0638 - val_accuracy: 0.9800\n",
            "Epoch 53/100\n",
            "52/52 [==============================] - 181s 3s/step - loss: 0.0459 - accuracy: 0.9939 - val_loss: 0.0679 - val_accuracy: 0.9850\n",
            "Epoch 54/100\n",
            "52/52 [==============================] - 181s 3s/step - loss: 0.0401 - accuracy: 0.9964 - val_loss: 0.0638 - val_accuracy: 0.9800\n",
            "Epoch 55/100\n",
            "52/52 [==============================] - 181s 3s/step - loss: 0.0482 - accuracy: 0.9921 - val_loss: 0.0649 - val_accuracy: 0.9750\n",
            "Epoch 56/100\n",
            "52/52 [==============================] - 181s 3s/step - loss: 0.0465 - accuracy: 0.9927 - val_loss: 0.0780 - val_accuracy: 0.9750\n",
            "Epoch 57/100\n",
            "52/52 [==============================] - 181s 3s/step - loss: 0.0404 - accuracy: 0.9964 - val_loss: 0.0707 - val_accuracy: 0.9800\n",
            "Epoch 58/100\n",
            "52/52 [==============================] - 182s 3s/step - loss: 0.0451 - accuracy: 0.9909 - val_loss: 0.0607 - val_accuracy: 0.9850\n",
            "Epoch 59/100\n",
            "52/52 [==============================] - 182s 3s/step - loss: 0.0432 - accuracy: 0.9927 - val_loss: 0.0728 - val_accuracy: 0.9800\n",
            "Epoch 60/100\n",
            "52/52 [==============================] - 182s 3s/step - loss: 0.0364 - accuracy: 0.9964 - val_loss: 0.0720 - val_accuracy: 0.9750\n",
            "Epoch 61/100\n",
            "52/52 [==============================] - 182s 3s/step - loss: 0.0379 - accuracy: 0.9951 - val_loss: 0.0611 - val_accuracy: 0.9800\n",
            "Epoch 62/100\n",
            "52/52 [==============================] - 183s 4s/step - loss: 0.0346 - accuracy: 0.9976 - val_loss: 0.0731 - val_accuracy: 0.9750\n",
            "Epoch 63/100\n",
            "52/52 [==============================] - 181s 3s/step - loss: 0.0384 - accuracy: 0.9939 - val_loss: 0.0634 - val_accuracy: 0.9750\n",
            "Epoch 64/100\n",
            "52/52 [==============================] - 182s 3s/step - loss: 0.0348 - accuracy: 0.9976 - val_loss: 0.0705 - val_accuracy: 0.9750\n",
            "Epoch 65/100\n",
            "52/52 [==============================] - 182s 3s/step - loss: 0.0335 - accuracy: 0.9964 - val_loss: 0.0724 - val_accuracy: 0.9750\n",
            "Epoch 66/100\n",
            "52/52 [==============================] - 182s 3s/step - loss: 0.0343 - accuracy: 0.9970 - val_loss: 0.0681 - val_accuracy: 0.9750\n",
            "Epoch 67/100\n",
            "52/52 [==============================] - 182s 3s/step - loss: 0.0290 - accuracy: 0.9976 - val_loss: 0.0724 - val_accuracy: 0.9750\n",
            "Epoch 68/100\n",
            "52/52 [==============================] - 181s 3s/step - loss: 0.0340 - accuracy: 0.9964 - val_loss: 0.0654 - val_accuracy: 0.9750\n",
            "Epoch 69/100\n",
            "52/52 [==============================] - 182s 3s/step - loss: 0.0345 - accuracy: 0.9964 - val_loss: 0.0646 - val_accuracy: 0.9750\n",
            "Epoch 70/100\n",
            "52/52 [==============================] - 181s 3s/step - loss: 0.0335 - accuracy: 0.9939 - val_loss: 0.0653 - val_accuracy: 0.9800\n",
            "Epoch 71/100\n",
            "52/52 [==============================] - 182s 3s/step - loss: 0.0318 - accuracy: 0.9970 - val_loss: 0.0545 - val_accuracy: 0.9750\n",
            "Epoch 72/100\n",
            "52/52 [==============================] - 182s 4s/step - loss: 0.0311 - accuracy: 0.9964 - val_loss: 0.0666 - val_accuracy: 0.9750\n",
            "Epoch 73/100\n",
            "52/52 [==============================] - 181s 3s/step - loss: 0.0321 - accuracy: 0.9964 - val_loss: 0.0551 - val_accuracy: 0.9850\n",
            "Epoch 74/100\n",
            "52/52 [==============================] - 181s 3s/step - loss: 0.0305 - accuracy: 0.9976 - val_loss: 0.0535 - val_accuracy: 0.9850\n",
            "Epoch 75/100\n",
            "52/52 [==============================] - 182s 4s/step - loss: 0.0274 - accuracy: 0.9976 - val_loss: 0.0609 - val_accuracy: 0.9750\n",
            "Epoch 76/100\n",
            "52/52 [==============================] - 182s 3s/step - loss: 0.0267 - accuracy: 0.9976 - val_loss: 0.0592 - val_accuracy: 0.9750\n",
            "Epoch 77/100\n",
            "52/52 [==============================] - 182s 4s/step - loss: 0.0286 - accuracy: 0.9951 - val_loss: 0.0645 - val_accuracy: 0.9750\n",
            "Epoch 78/100\n",
            "52/52 [==============================] - 183s 4s/step - loss: 0.0287 - accuracy: 0.9970 - val_loss: 0.0619 - val_accuracy: 0.9800\n",
            "Epoch 79/100\n",
            "52/52 [==============================] - 182s 4s/step - loss: 0.0286 - accuracy: 0.9957 - val_loss: 0.0665 - val_accuracy: 0.9800\n",
            "Epoch 80/100\n",
            "52/52 [==============================] - 183s 4s/step - loss: 0.0235 - accuracy: 0.9982 - val_loss: 0.0658 - val_accuracy: 0.9700\n",
            "Epoch 81/100\n",
            "52/52 [==============================] - 184s 4s/step - loss: 0.0258 - accuracy: 0.9988 - val_loss: 0.0611 - val_accuracy: 0.9750\n",
            "Epoch 82/100\n",
            "52/52 [==============================] - 182s 3s/step - loss: 0.0256 - accuracy: 0.9976 - val_loss: 0.0608 - val_accuracy: 0.9850\n",
            "Epoch 83/100\n",
            "52/52 [==============================] - 182s 4s/step - loss: 0.0246 - accuracy: 0.9976 - val_loss: 0.0585 - val_accuracy: 0.9800\n",
            "Epoch 84/100\n",
            "52/52 [==============================] - 182s 4s/step - loss: 0.0222 - accuracy: 0.9994 - val_loss: 0.0554 - val_accuracy: 0.9850\n",
            "Epoch 85/100\n",
            "52/52 [==============================] - 183s 4s/step - loss: 0.0260 - accuracy: 0.9957 - val_loss: 0.0644 - val_accuracy: 0.9750\n",
            "Epoch 86/100\n",
            "52/52 [==============================] - 182s 4s/step - loss: 0.0240 - accuracy: 0.9988 - val_loss: 0.0581 - val_accuracy: 0.9750\n",
            "Epoch 87/100\n",
            "52/52 [==============================] - 182s 3s/step - loss: 0.0220 - accuracy: 0.9976 - val_loss: 0.0549 - val_accuracy: 0.9850\n",
            "Epoch 88/100\n",
            "52/52 [==============================] - 182s 4s/step - loss: 0.0232 - accuracy: 0.9970 - val_loss: 0.0725 - val_accuracy: 0.9700\n",
            "Epoch 89/100\n",
            "52/52 [==============================] - 182s 3s/step - loss: 0.0246 - accuracy: 0.9970 - val_loss: 0.0554 - val_accuracy: 0.9850\n",
            "Epoch 90/100\n",
            "52/52 [==============================] - 182s 4s/step - loss: 0.0226 - accuracy: 0.9988 - val_loss: 0.0571 - val_accuracy: 0.9850\n",
            "Epoch 91/100\n",
            "52/52 [==============================] - 184s 4s/step - loss: 0.0189 - accuracy: 0.9994 - val_loss: 0.0645 - val_accuracy: 0.9750\n",
            "Epoch 92/100\n",
            "52/52 [==============================] - 182s 3s/step - loss: 0.0189 - accuracy: 1.0000 - val_loss: 0.0613 - val_accuracy: 0.9850\n",
            "Epoch 93/100\n",
            "52/52 [==============================] - 182s 4s/step - loss: 0.0185 - accuracy: 0.9994 - val_loss: 0.0781 - val_accuracy: 0.9750\n",
            "Epoch 94/100\n",
            "52/52 [==============================] - 182s 4s/step - loss: 0.0250 - accuracy: 0.9951 - val_loss: 0.0518 - val_accuracy: 0.9750\n",
            "Epoch 95/100\n",
            "52/52 [==============================] - 183s 4s/step - loss: 0.0245 - accuracy: 0.9951 - val_loss: 0.0784 - val_accuracy: 0.9800\n",
            "Epoch 96/100\n",
            "52/52 [==============================] - 182s 4s/step - loss: 0.0204 - accuracy: 0.9982 - val_loss: 0.0616 - val_accuracy: 0.9750\n",
            "Epoch 97/100\n",
            "52/52 [==============================] - 182s 4s/step - loss: 0.0216 - accuracy: 0.9945 - val_loss: 0.0607 - val_accuracy: 0.9850\n",
            "Epoch 98/100\n",
            "52/52 [==============================] - 182s 4s/step - loss: 0.0193 - accuracy: 0.9976 - val_loss: 0.0572 - val_accuracy: 0.9850\n",
            "Epoch 99/100\n",
            "52/52 [==============================] - 182s 3s/step - loss: 0.0179 - accuracy: 0.9976 - val_loss: 0.0596 - val_accuracy: 0.9850\n",
            "Epoch 100/100\n",
            "52/52 [==============================] - 184s 4s/step - loss: 0.0169 - accuracy: 0.9994 - val_loss: 0.0558 - val_accuracy: 0.9850\n"
          ],
          "name": "stdout"
        }
      ]
    },
    {
      "cell_type": "code",
      "metadata": {
        "id": "NKxZK7nIx3Kq",
        "colab_type": "code",
        "colab": {}
      },
      "source": [
        "   model.save('signfeatures_new_model.h5')"
      ],
      "execution_count": 17,
      "outputs": []
    },
    {
      "cell_type": "code",
      "metadata": {
        "id": "NPp1SrHGyipf",
        "colab_type": "code",
        "colab": {
          "base_uri": "https://localhost:8080/",
          "height": 494
        },
        "outputId": "dde81296-924d-4d71-9470-f565f731fd42"
      },
      "source": [
        "# loss\n",
        "plt.plot(r.history['loss'], label='train loss')\n",
        "plt.plot(r.history['val_loss'], label='val loss')\n",
        "plt.legend()\n",
        "plt.show()\n",
        "plt.savefig('LossVal_loss')\n",
        "\n"
      ],
      "execution_count": null,
      "outputs": [
        {
          "output_type": "display_data",
          "data": {
            "image/png": "[encoded data removed]",
            "text/plain": [
              "<Figure size 432x288 with 1 Axes>"
            ]
          },
          "metadata": {
            "tags": [],
            "needs_background": "light"
          }
        },
        {
          "output_type": "error",
          "ename": "KeyError",
          "evalue": "ignored",
          "traceback": [
            "\u001b[0;31m---------------------------------------------------------------------------\u001b[0m",
            "\u001b[0;31mKeyError\u001b[0m                                  Traceback (most recent call last)",
            "\u001b[0;32m<ipython-input-23-72f078835ac0>\u001b[0m in \u001b[0;36m<module>\u001b[0;34m()\u001b[0m\n\u001b[1;32m      7\u001b[0m \u001b[0;34m\u001b[0m\u001b[0m\n\u001b[1;32m      8\u001b[0m \u001b[0;31m# accuracies\u001b[0m\u001b[0;34m\u001b[0m\u001b[0;34m\u001b[0m\u001b[0;34m\u001b[0m\u001b[0m\n\u001b[0;32m----> 9\u001b[0;31m \u001b[0mplt\u001b[0m\u001b[0;34m.\u001b[0m\u001b[0mplot\u001b[0m\u001b[0;34m(\u001b[0m\u001b[0mr\u001b[0m\u001b[0;34m.\u001b[0m\u001b[0mhistory\u001b[0m\u001b[0;34m[\u001b[0m\u001b[0;34m'acc'\u001b[0m\u001b[0;34m]\u001b[0m\u001b[0;34m,\u001b[0m \u001b[0mlabel\u001b[0m\u001b[0;34m=\u001b[0m\u001b[0;34m'train acc'\u001b[0m\u001b[0;34m)\u001b[0m\u001b[0;34m\u001b[0m\u001b[0;34m\u001b[0m\u001b[0m\n\u001b[0m\u001b[1;32m     10\u001b[0m \u001b[0mplt\u001b[0m\u001b[0;34m.\u001b[0m\u001b[0mplot\u001b[0m\u001b[0;34m(\u001b[0m\u001b[0mr\u001b[0m\u001b[0;34m.\u001b[0m\u001b[0mhistory\u001b[0m\u001b[0;34m[\u001b[0m\u001b[0;34m'val_acc'\u001b[0m\u001b[0;34m]\u001b[0m\u001b[0;34m,\u001b[0m \u001b[0mlabel\u001b[0m\u001b[0;34m=\u001b[0m\u001b[0;34m'val acc'\u001b[0m\u001b[0;34m)\u001b[0m\u001b[0;34m\u001b[0m\u001b[0;34m\u001b[0m\u001b[0m\n\u001b[1;32m     11\u001b[0m \u001b[0mplt\u001b[0m\u001b[0;34m.\u001b[0m\u001b[0mlegend\u001b[0m\u001b[0;34m(\u001b[0m\u001b[0;34m)\u001b[0m\u001b[0;34m\u001b[0m\u001b[0;34m\u001b[0m\u001b[0m\n",
            "\u001b[0;31mKeyError\u001b[0m: 'acc'"
          ]
        },
        {
          "output_type": "display_data",
          "data": {
            "text/plain": [
              "<Figure size 432x288 with 0 Axes>"
            ]
          },
          "metadata": {
            "tags": []
          }
        }
      ]
    },
    {
      "cell_type": "code",
      "metadata": {
        "id": "ayCTDNKnc_fN",
        "colab_type": "code",
        "colab": {}
      },
      "source": [
        "mod = load_model('/content/signfeatures_new_model.h5')"
      ],
      "execution_count": 18,
      "outputs": []
    },
    {
      "cell_type": "code",
      "metadata": {
        "id": "0IKraStadb7y",
        "colab_type": "code",
        "colab": {
          "base_uri": "https://localhost:8080/",
          "height": 857
        },
        "outputId": "b4f943ec-6b75-44b2-83b3-e0677b3d627e"
      },
      "source": [
        "mod.summary()"
      ],
      "execution_count": 19,
      "outputs": [
        {
          "output_type": "stream",
          "text": [
            "Model: \"functional_1\"\n",
            "_________________________________________________________________\n",
            "Layer (type)                 Output Shape              Param #   \n",
            "=================================================================\n",
            "input_1 (InputLayer)         [(None, 100, 100, 3)]     0         \n",
            "_________________________________________________________________\n",
            "block1_conv1 (Conv2D)        (None, 100, 100, 64)      1792      \n",
            "_________________________________________________________________\n",
            "block1_conv2 (Conv2D)        (None, 100, 100, 64)      36928     \n",
            "_________________________________________________________________\n",
            "block1_pool (MaxPooling2D)   (None, 50, 50, 64)        0         \n",
            "_________________________________________________________________\n",
            "block2_conv1 (Conv2D)        (None, 50, 50, 128)       73856     \n",
            "_________________________________________________________________\n",
            "block2_conv2 (Conv2D)        (None, 50, 50, 128)       147584    \n",
            "_________________________________________________________________\n",
            "block2_pool (MaxPooling2D)   (None, 25, 25, 128)       0         \n",
            "_________________________________________________________________\n",
            "block3_conv1 (Conv2D)        (None, 25, 25, 256)       295168    \n",
            "_________________________________________________________________\n",
            "block3_conv2 (Conv2D)        (None, 25, 25, 256)       590080    \n",
            "_________________________________________________________________\n",
            "block3_conv3 (Conv2D)        (None, 25, 25, 256)       590080    \n",
            "_________________________________________________________________\n",
            "block3_pool (MaxPooling2D)   (None, 12, 12, 256)       0         \n",
            "_________________________________________________________________\n",
            "block4_conv1 (Conv2D)        (None, 12, 12, 512)       1180160   \n",
            "_________________________________________________________________\n",
            "block4_conv2 (Conv2D)        (None, 12, 12, 512)       2359808   \n",
            "_________________________________________________________________\n",
            "block4_conv3 (Conv2D)        (None, 12, 12, 512)       2359808   \n",
            "_________________________________________________________________\n",
            "block4_pool (MaxPooling2D)   (None, 6, 6, 512)         0         \n",
            "_________________________________________________________________\n",
            "block5_conv1 (Conv2D)        (None, 6, 6, 512)         2359808   \n",
            "_________________________________________________________________\n",
            "block5_conv2 (Conv2D)        (None, 6, 6, 512)         2359808   \n",
            "_________________________________________________________________\n",
            "block5_conv3 (Conv2D)        (None, 6, 6, 512)         2359808   \n",
            "_________________________________________________________________\n",
            "block5_pool (MaxPooling2D)   (None, 3, 3, 512)         0         \n",
            "_________________________________________________________________\n",
            "flatten (Flatten)            (None, 4608)              0         \n",
            "_________________________________________________________________\n",
            "dense (Dense)                (None, 10)                46090     \n",
            "=================================================================\n",
            "Total params: 14,760,778\n",
            "Trainable params: 46,090\n",
            "Non-trainable params: 14,714,688\n",
            "_________________________________________________________________\n"
          ],
          "name": "stdout"
        }
      ]
    },
    {
      "cell_type": "code",
      "metadata": {
        "id": "KzReCZuC7VDv",
        "colab_type": "code",
        "colab": {}
      },
      "source": [
        "import cv2\n",
        "img = cv2.imread('/content/IMG_4097.JPG')\n",
        "img = np.reshape(img,[1,100,100,3])\n"
      ],
      "execution_count": 37,
      "outputs": []
    },
    {
      "cell_type": "code",
      "metadata": {
        "id": "wUIz6KWFFa9O",
        "colab_type": "code",
        "colab": {}
      },
      "source": [
        "predictions = mod.predict(img)"
      ],
      "execution_count": 38,
      "outputs": []
    },
    {
      "cell_type": "code",
      "metadata": {
        "id": "J9evncEHBQVf",
        "colab_type": "code",
        "colab": {
          "base_uri": "https://localhost:8080/",
          "height": 67
        },
        "outputId": "947f03b5-5d51-431f-ad48-c68f2b624e25"
      },
      "source": [
        "predictions"
      ],
      "execution_count": 34,
      "outputs": [
        {
          "output_type": "execute_result",
          "data": {
            "text/plain": [
              "array([[0.0000000e+00, 0.0000000e+00, 0.0000000e+00, 0.0000000e+00,\n",
              "        1.7250267e-30, 0.0000000e+00, 0.0000000e+00, 0.0000000e+00,\n",
              "        1.0000000e+00, 0.0000000e+00]], dtype=float32)"
            ]
          },
          "metadata": {
            "tags": []
          },
          "execution_count": 34
        }
      ]
    },
    {
      "cell_type": "code",
      "metadata": {
        "id": "PCRwg_IeGGZo",
        "colab_type": "code",
        "colab": {
          "base_uri": "https://localhost:8080/",
          "height": 34
        },
        "outputId": "41026e5f-6ff1-499a-b225-c831116021ae"
      },
      "source": [
        "y_classes = predictions.argmax(axis=-1)\n",
        "y_classes"
      ],
      "execution_count": 39,
      "outputs": [
        {
          "output_type": "execute_result",
          "data": {
            "text/plain": [
              "array([8])"
            ]
          },
          "metadata": {
            "tags": []
          },
          "execution_count": 39
        }
      ]
    }
  ]
}